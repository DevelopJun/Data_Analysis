{
 "cells": [
  {
   "cell_type": "markdown",
   "id": "fatty-conclusion",
   "metadata": {},
   "source": [
    "##### 히스토그램 \n",
    "히스토그램은 자료의 분포 상태를 직사각형 모양의 막대 그래프로 나타낸 것으로, 데이터의 빈도에 따라 높이가 결정된다. \n",
    "plot() 함수를 이용해서 꺾은선 그래프를 그렸듯이 hist() 함수를 사용하면 데이터를 히스토그램을 그릴 수 있다. "
   ]
  },
  {
   "cell_type": "code",
   "execution_count": 2,
   "id": "selected-saver",
   "metadata": {},
   "outputs": [
    {
     "data": {
      "image/png": "[encoded data removed]",
      "text/plain": [
       "<Figure size 432x288 with 1 Axes>"
      ]
     },
     "metadata": {
      "needs_background": "light"
     },
     "output_type": "display_data"
    }
   ],
   "source": [
    "import matplotlib.pyplot as plt\n",
    "plt.hist([1, 1, 2, 3, 4, 5, 6, 6, 7, 8, 10])\n",
    "plt.show()"
   ]
  },
  {
   "cell_type": "code",
   "execution_count": 6,
   "id": "juvenile-toyota",
   "metadata": {},
   "outputs": [
    {
     "name": "stdout",
     "output_type": "stream",
     "text": [
      "3\n"
     ]
    }
   ],
   "source": [
    "import random\n",
    "print(random.randint(1, 6))"
   ]
  },
  {
   "cell_type": "code",
   "execution_count": 27,
   "id": "corrected-bacon",
   "metadata": {},
   "outputs": [
    {
     "name": "stdout",
     "output_type": "stream",
     "text": [
      "[2, 2, 5, 4, 5, 4, 1, 3, 3, 5, 3, 1, 2, 6, 1, 4, 5, 3, 2, 6, 4, 5, 2, 2, 5, 3, 1, 5, 1, 4, 1, 4, 6, 5, 3, 3, 4, 1, 6, 5, 3, 4, 1, 4, 4, 2, 3, 3, 4, 6, 5, 5, 1, 5, 6, 5, 3, 6, 5, 1, 2, 4, 3, 4, 1, 4, 4, 4, 3, 4, 1, 2, 6, 5, 2, 4, 4, 2, 2, 1, 5, 3, 4, 5, 4, 5, 6, 3, 2, 6, 1, 5, 5, 3, 3, 1, 1, 5, 6, 5, 5, 6, 1, 6, 4, 1, 4, 3, 6, 1, 3, 5, 3, 6, 1, 2, 1, 6, 6, 2, 6, 1, 3, 3, 3, 1, 5, 2, 2, 1, 3, 5, 3, 4, 2, 4, 1, 6, 5, 2, 1, 4, 1, 6, 4, 1, 6, 6, 3, 6, 6, 4, 2, 2, 5, 3, 1, 4, 5, 2, 3, 2, 6, 6, 3, 5, 4, 4, 3, 6, 5, 3, 1, 5, 3, 3, 2, 1, 6, 4, 3, 1, 3, 3, 4, 5, 5, 3, 4, 3, 4, 6, 1, 6, 3, 1, 5, 6, 5, 2, 2, 5, 4, 4, 2, 5, 5, 3, 3, 2, 4, 1, 4, 4, 2, 1, 2, 2, 6, 5, 3, 5, 6, 4, 5, 6, 2, 6, 2, 4, 3, 4, 2, 4, 5, 3, 5, 3, 6, 1, 4, 3, 6, 3, 3, 2, 2, 2, 3, 1, 3, 6, 3, 2, 2, 1, 1, 5, 5, 4, 3, 3, 4, 5, 4, 6, 1, 3, 6, 1, 5, 2, 3, 3, 6, 3, 1, 1, 5, 4, 1, 3, 1, 4, 2, 4, 3, 1, 1, 3, 6, 5, 6, 1, 2, 1, 1, 1, 5, 2, 3, 3, 5, 3, 5, 6, 4, 4, 4, 5, 3, 1, 6, 4, 5, 6, 4, 1, 6, 2, 6, 6, 3, 6, 5, 2, 3, 3, 1, 6, 2, 3, 3, 3, 4, 2, 1, 2, 2, 5, 5, 1, 5, 3, 1, 1, 2, 1, 3, 4, 5, 2, 3, 2, 5, 1, 1, 2, 5, 2, 1, 3, 3, 1, 2, 3, 5, 2, 6, 3, 6, 2, 4, 4, 6, 3, 5, 2, 4, 3, 6, 3, 6, 5, 1, 6, 3, 1, 6, 1, 6, 6, 6, 1, 2, 3, 5, 2, 5, 5, 2, 2, 4, 4, 3, 1, 2, 6, 5, 1, 2, 3, 5, 1, 1, 6, 4, 2, 3, 3, 4, 5, 6, 1, 5, 6, 1, 1, 3, 2, 2, 4, 1, 2, 4, 1, 2, 5, 6, 4, 5, 6, 4, 4, 6, 5, 1, 3, 6, 5, 4, 1, 4, 2, 2, 4, 6, 5, 3, 2, 5, 6, 6, 5, 4, 1, 4, 4, 5, 6, 2, 6, 2, 3, 1, 1, 4, 4, 5, 5, 1, 3, 4, 4, 6, 2, 2, 2, 3, 1, 3, 5, 2, 1, 5, 3, 4, 6, 3, 1]\n"
     ]
    }
   ],
   "source": [
    "import random\n",
    "dice = []\n",
    "for i in range(500): # 여기서 range 번위를 계속 지속적으로 올리면 균등하게 빈도가 확률적으로 같아지는 현상을 확인 가능.\n",
    "    dice.append(random.randint(1,6))\n",
    "print(dice)"
   ]
  },
  {
   "cell_type": "code",
   "execution_count": 25,
   "id": "liberal-affect",
   "metadata": {},
   "outputs": [
    {
     "data": {
      "image/png": "[encoded data removed]",
      "text/plain": [
       "<Figure size 432x288 with 1 Axes>"
      ]
     },
     "metadata": {
      "needs_background": "light"
     },
     "output_type": "display_data"
    }
   ],
   "source": [
    "plt.hist(dice, bins=6) # bins가 가로축 구간 개수를 설정하는 속성 \n",
    "plt.show()"
   ]
  },
  {
   "cell_type": "markdown",
   "id": "cooperative-choice",
   "metadata": {},
   "source": [
    " ##### ▼기온 데이터를 히스토그램으로 표현하기 1907년 부터 2018년까지 수집된 서울의 기온 데이터를 히스토그램으로 표현해보겠다. "
   ]
  },
  {
   "cell_type": "code",
   "execution_count": 33,
   "id": "found-scene",
   "metadata": {},
   "outputs": [
    {
     "data": {
      "image/png": "[encoded data removed]",
      "text/plain": [
       "<Figure size 432x288 with 1 Axes>"
      ]
     },
     "metadata": {
      "needs_background": "light"
     },
     "output_type": "display_data"
    }
   ],
   "source": [
    "import csv \n",
    "import matplotlib.pyplot as plt\n",
    "\n",
    "f = open('seoul.csv')\n",
    "data = csv.reader(f)\n",
    "next(data)\n",
    "result = []\n",
    "\n",
    "for row in data:\n",
    "    if row[-1] != '':\n",
    "        result.append(float(row[-1]))\n",
    "        \n",
    "plt.hist(result, bins=100, color='blue')\n",
    "plt.show()"
   ]
  },
  {
   "cell_type": "code",
   "execution_count": 36,
   "id": "least-virus",
   "metadata": {},
   "outputs": [
    {
     "data": {
      "image/png": "[encoded data removed]",
      "text/plain": [
       "<Figure size 432x288 with 1 Axes>"
      ]
     },
     "metadata": {
      "needs_background": "light"
     },
     "output_type": "display_data"
    }
   ],
   "source": [
    "import csv \n",
    "import matplotlib.pyplot as plt\n",
    "\n",
    "f = open('seoul.csv')\n",
    "data = csv.reader(f)\n",
    "next(data)\n",
    "august = [] # 여름 데이터만 봅기 8월\n",
    "\n",
    "for row in data:\n",
    "    month = row[0].split('-')[1]\n",
    "    if row[-1] != '':\n",
    "\n",
    "        \n",
    "        if month == '08':\n",
    "            august.append(float(row[-1]))\n",
    "        \n",
    "plt.hist(august, bins=100, color='blue')\n",
    "plt.show()"
   ]
  },
  {
   "cell_type": "code",
   "execution_count": 38,
   "id": "sophisticated-france",
   "metadata": {},
   "outputs": [
    {
     "data": {
      "image/png": "[encoded data removed]",
      "text/plain": [
       "<Figure size 432x288 with 1 Axes>"
      ]
     },
     "metadata": {
      "needs_background": "light"
     },
     "output_type": "display_data"
    }
   ],
   "source": [
    "# 여름 데이터와 겨울 데이터 시각화 시켜서 따로 보기 \n",
    "import csv \n",
    "import matplotlib.pyplot as plt\n",
    "\n",
    "f = open('seoul.csv')\n",
    "data = csv.reader(f)\n",
    "next(data)\n",
    "august = [] # 여름 데이터만 봅기 8월\n",
    "jan = []\n",
    "\n",
    "for row in data:\n",
    "    month = row[0].split('-')[1]\n",
    "    if row[-1] != '':\n",
    "        if month == '08':\n",
    "            august.append(float(row[-1]))\n",
    "        if month == '01':\n",
    "            jan.append(float(row[-1]))\n",
    "            \n",
    "\n",
    "plt.hist(august, bins=100, color='r', label='Aug')\n",
    "plt.hist(jan, bins=100, color='b', label='Jan')\n",
    "plt.legend()\n",
    "plt.show()"
   ]
  },
  {
   "cell_type": "markdown",
   "id": "advance-gateway",
   "metadata": {},
   "source": [
    " ##### ▼ 기온 데이터를 상자 그림으로 표현하기 "
   ]
  },
  {
   "cell_type": "code",
   "execution_count": 40,
   "id": "irish-hampshire",
   "metadata": {},
   "outputs": [
    {
     "name": "stdout",
     "output_type": "stream",
     "text": [
      "[53, 101, 116, 138, 216, 309, 379, 513, 660, 681, 695, 961, 986]\n"
     ]
    },
    {
     "data": {
      "image/png": "[encoded data removed]",
      "text/plain": [
       "<Figure size 432x288 with 1 Axes>"
      ]
     },
     "metadata": {
      "needs_background": "light"
     },
     "output_type": "display_data"
    }
   ],
   "source": [
    "import matplotlib.pyplot as plt\n",
    "import random\n",
    "result = []\n",
    "for i in range(13):\n",
    "    result.append(random.randint(1, 1000))\n",
    "print(sorted(result))\n",
    "\n",
    "plt.boxplot(result)\n",
    "plt.show()\n"
   ]
  },
  {
   "cell_type": "code",
   "execution_count": 41,
   "id": "nuclear-pierce",
   "metadata": {},
   "outputs": [
    {
     "name": "stdout",
     "output_type": "stream",
     "text": [
      "1/4 138.0\n",
      "2/4 379.0\n",
      "3/4 681.0\n"
     ]
    }
   ],
   "source": [
    "# 정확하게 1/4, 2/4, 3/4 에 위치한 값이 알고 싶다면 다음 코드를 실행하면 된다. \n",
    "import numpy as np \n",
    "result = np.array(result)\n",
    "print('1/4', str(np.percentile(result, 25)))\n",
    "print('2/4', str(np.percentile(result, 50)))\n",
    "print('3/4', str(np.percentile(result, 75)))"
   ]
  },
  {
   "cell_type": "code",
   "execution_count": null,
   "id": "backed-marathon",
   "metadata": {},
   "outputs": [],
   "source": []
  }
 ],
 "metadata": {
  "kernelspec": {
   "display_name": "Python 3",
   "language": "python",
   "name": "python3"
  },
  "language_info": {
   "codemirror_mode": {
    "name": "ipython",
    "version": 3
   },
   "file_extension": ".py",
   "mimetype": "text/x-python",
   "name": "python",
   "nbconvert_exporter": "python",
   "pygments_lexer": "ipython3",
   "version": "3.7.9"
  }
 },
 "nbformat": 4,
 "nbformat_minor": 5
}
